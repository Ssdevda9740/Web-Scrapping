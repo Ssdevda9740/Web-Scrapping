{
 "cells": [
  {
   "cell_type": "code",
   "execution_count": 1,
   "metadata": {},
   "outputs": [],
   "source": [
    "import os\n",
    "def directory(dir):\n",
    "    current_path=os.getcwd()\n",
    "    new=os.path.join(current_path,dir)\n",
    "    if not os.path.exists(new):\n",
    "        os.makedirs(new)"
   ]
  },
  {
   "cell_type": "code",
   "execution_count": 2,
   "metadata": {},
   "outputs": [],
   "source": [
    "directory('Sarees Women')"
   ]
  },
  {
   "cell_type": "code",
   "execution_count": 3,
   "metadata": {},
   "outputs": [],
   "source": [
    "directory('Trousers Men')"
   ]
  },
  {
   "cell_type": "code",
   "execution_count": 4,
   "metadata": {},
   "outputs": [],
   "source": [
    "directory('Jeans Men')"
   ]
  },
  {
   "cell_type": "code",
   "execution_count": 5,
   "metadata": {},
   "outputs": [],
   "source": [
    "from selenium import webdriver\n",
    "import os"
   ]
  },
  {
   "cell_type": "code",
   "execution_count": 6,
   "metadata": {},
   "outputs": [],
   "source": [
    "driver=webdriver.Chrome(executable_path='chromedriver.exe')"
   ]
  },
  {
   "cell_type": "code",
   "execution_count": 7,
   "metadata": {},
   "outputs": [],
   "source": [
    "page=driver.get('https://www.amazon.in/s?k=sarees&qid=1609590798&ref=sr_pg_1')"
   ]
  },
  {
   "cell_type": "code",
   "execution_count": 8,
   "metadata": {},
   "outputs": [],
   "source": [
    "images=driver.find_elements_by_xpath(\"//img[@class ='s-image' ]\")"
   ]
  },
  {
   "cell_type": "code",
   "execution_count": 9,
   "metadata": {},
   "outputs": [
    {
     "name": "stdout",
     "output_type": "stream",
     "text": [
      "64\n"
     ]
    }
   ],
   "source": [
    "print(len(images))"
   ]
  },
  {
   "cell_type": "code",
   "execution_count": 10,
   "metadata": {},
   "outputs": [
    {
     "data": {
      "text/plain": [
       "<selenium.webdriver.remote.webelement.WebElement (session=\"06fe4d6fea0c09ce478027ee50810749\", element=\"450b31dd-d77b-4113-a2ee-aa5a02633f5d\")>"
      ]
     },
     "execution_count": 10,
     "metadata": {},
     "output_type": "execute_result"
    }
   ],
   "source": [
    "images[0]"
   ]
  },
  {
   "cell_type": "code",
   "execution_count": 11,
   "metadata": {},
   "outputs": [
    {
     "data": {
      "text/plain": [
       "<selenium.webdriver.remote.webelement.WebElement (session=\"06fe4d6fea0c09ce478027ee50810749\", element=\"a3e7ee17-ec87-486a-9282-86cfeec25cf8\")>"
      ]
     },
     "execution_count": 11,
     "metadata": {},
     "output_type": "execute_result"
    }
   ],
   "source": [
    "images[1]"
   ]
  },
  {
   "cell_type": "code",
   "execution_count": 12,
   "metadata": {},
   "outputs": [
    {
     "name": "stdout",
     "output_type": "stream",
     "text": [
      "https://m.media-amazon.com/images/I/61B8o9UlqpL._AC_UL320_.jpg\n",
      "https://m.media-amazon.com/images/I/61dbP1wFneL._AC_UL320_.jpg\n",
      "https://m.media-amazon.com/images/I/916ipavYg5L._AC_UL320_.jpg\n",
      "https://m.media-amazon.com/images/I/51r7L8ZWktL._AC_UL320_.jpg\n",
      "https://m.media-amazon.com/images/I/81JE98ug38L._AC_UL320_.jpg\n",
      "https://m.media-amazon.com/images/I/71t4-HNr3jL._AC_UL320_.jpg\n",
      "https://m.media-amazon.com/images/I/71MSMxeuPUL._AC_UL320_.jpg\n",
      "https://m.media-amazon.com/images/I/61BAGGt8icL._AC_UL320_.jpg\n",
      "https://m.media-amazon.com/images/I/61AJfE0W64L._AC_UL320_.jpg\n",
      "https://m.media-amazon.com/images/I/91dJZdKOJPL._AC_UL320_.jpg\n",
      "https://m.media-amazon.com/images/I/51vFzNCMVmL._AC_UL320_.jpg\n",
      "https://m.media-amazon.com/images/I/411gxeHZGGL._AC_UL320_.jpg\n",
      "https://m.media-amazon.com/images/I/71+HgPamOrL._AC_UL320_.jpg\n",
      "https://m.media-amazon.com/images/I/51JztTLSacL._AC_UL320_.jpg\n",
      "https://m.media-amazon.com/images/I/51-7oFhD3EL._AC_UL320_.jpg\n",
      "https://m.media-amazon.com/images/I/81EFTquo53L._AC_UL320_.jpg\n",
      "https://m.media-amazon.com/images/I/91-YLpp44oL._AC_UL320_.jpg\n",
      "https://m.media-amazon.com/images/I/81XtDODAvJL._AC_UL320_.jpg\n",
      "https://m.media-amazon.com/images/I/915MNGeeIFL._AC_UL320_.jpg\n",
      "https://m.media-amazon.com/images/I/91poiw5OEPL._AC_UL320_.jpg\n",
      "https://m.media-amazon.com/images/I/91cmY-VE0XL._AC_UL320_.jpg\n",
      "https://m.media-amazon.com/images/I/61X0OBXZRBL._AC_UL320_.jpg\n",
      "https://m.media-amazon.com/images/I/71hrXvHWFAL._AC_UL320_.jpg\n",
      "https://m.media-amazon.com/images/I/81LFhiNXh3L._AC_UL320_.jpg\n",
      "https://m.media-amazon.com/images/I/71kvLf0JKOL._AC_UL320_.jpg\n",
      "https://m.media-amazon.com/images/I/918Ve93krwL._AC_UL320_.jpg\n",
      "https://m.media-amazon.com/images/I/91dDMDg+QTL._AC_UL320_.jpg\n",
      "https://m.media-amazon.com/images/I/71TJ9p46PVL._AC_UL320_.jpg\n",
      "https://m.media-amazon.com/images/I/61Lu8Iy0WNL._AC_UL320_.jpg\n",
      "https://m.media-amazon.com/images/I/71TkNhHposL._AC_UL320_.jpg\n",
      "https://m.media-amazon.com/images/I/41oA7an8oDL._AC_UL320_.jpg\n",
      "https://m.media-amazon.com/images/I/81vNMz2KZwL._AC_UL320_.jpg\n",
      "https://m.media-amazon.com/images/I/91Xw4KtmTXL._AC_UL320_.jpg\n",
      "https://m.media-amazon.com/images/I/61Z45rryn+L._AC_UL320_.jpg\n",
      "https://m.media-amazon.com/images/I/61qqS6Hn1TL._AC_UL320_.jpg\n",
      "https://m.media-amazon.com/images/I/71Z-g2Bl2qL._AC_UL320_.jpg\n",
      "https://m.media-amazon.com/images/I/71E21r-3xHL._AC_UL320_.jpg\n",
      "https://m.media-amazon.com/images/I/81aGG71dRjL._AC_UL320_.jpg\n",
      "https://m.media-amazon.com/images/I/81h7PuLq-yL._AC_UL320_.jpg\n",
      "https://m.media-amazon.com/images/I/7173KkOWc1L._AC_UL320_.jpg\n",
      "https://m.media-amazon.com/images/I/81XKaSKvlyL._AC_UL320_.jpg\n",
      "https://m.media-amazon.com/images/I/81bZu7BGm8L._AC_UL320_.jpg\n",
      "https://m.media-amazon.com/images/I/61cb88ORChL._AC_UL320_.jpg\n",
      "https://m.media-amazon.com/images/I/91rgSnGioKL._AC_UL320_.jpg\n",
      "https://m.media-amazon.com/images/I/81g1gLo8TRL._AC_UL320_.jpg\n",
      "https://m.media-amazon.com/images/I/91Ioo7hXnuL._AC_UL320_.jpg\n",
      "https://m.media-amazon.com/images/I/51hw22SU20L._AC_UL320_.jpg\n",
      "https://m.media-amazon.com/images/I/91qX7Q7w-KL._AC_UL320_.jpg\n",
      "https://m.media-amazon.com/images/I/518nmMcBEdL._AC_UL320_.jpg\n",
      "https://m.media-amazon.com/images/I/71E5gqkRcDL._AC_UL320_.jpg\n",
      "https://m.media-amazon.com/images/I/916nMK7rdXL._AC_UL320_.jpg\n",
      "https://m.media-amazon.com/images/I/91Ko73taIuL._AC_UL320_.jpg\n",
      "https://m.media-amazon.com/images/I/51A4mhbufgL._AC_UL320_.jpg\n",
      "https://m.media-amazon.com/images/I/811zCL2UCZL._AC_UL320_.jpg\n",
      "https://m.media-amazon.com/images/I/91BJcdyXRML._AC_UL320_.jpg\n",
      "https://m.media-amazon.com/images/I/81dN1MInCoL._AC_UL320_.jpg\n",
      "https://m.media-amazon.com/images/G/31/AMAZON_FASHION/2020/Shopping_Pages_Marketing_Content/All_fashion.jpg\n",
      "https://m.media-amazon.com/images/G/31/AMAZON_FASHION/2020/Shopping_Pages_Marketing_Content/Newly_launched.jpg\n",
      "https://m.media-amazon.com/images/G/31/AMAZON_FASHION/2020/Shopping_Pages_Marketing_Content/Trending_fashion.jpg\n",
      "https://m.media-amazon.com/images/G/31/AMAZON_FASHION/2020/Shopping_Pages_Marketing_Content/Featured_brands.jpg\n",
      "https://m.media-amazon.com/images/G/31/AMAZON_FASHION/2020/Shopping_Pages_Marketing_Content/Fashion_deals.jpg\n",
      "https://m.media-amazon.com/images/G/31/AMAZON_FASHION/2020/Shopping_Pages_Marketing_Content/Pocket-friendly_fashion.jpg\n",
      "https://m.media-amazon.com/images/G/31/AMAZON_FASHION/2020/Shopping_Pages_Marketing_Content/Clearance_store.jpg\n",
      "https://m.media-amazon.com/images/G/31/AMAZON_FASHION/2020/Shopping_Pages_Marketing_Content/Top-rated_fashion.jpg\n"
     ]
    }
   ],
   "source": [
    "urls=[]\n",
    "for image in images:\n",
    "    source=image.get_attribute('src')\n",
    "    urls.append(source)\n",
    "    print(source)"
   ]
  },
  {
   "cell_type": "code",
   "execution_count": 13,
   "metadata": {},
   "outputs": [
    {
     "data": {
      "text/plain": [
       "113"
      ]
     },
     "execution_count": 13,
     "metadata": {},
     "output_type": "execute_result"
    }
   ],
   "source": [
    "len(source)"
   ]
  },
  {
   "cell_type": "code",
   "execution_count": 14,
   "metadata": {},
   "outputs": [
    {
     "data": {
      "text/plain": [
       "64"
      ]
     },
     "execution_count": 14,
     "metadata": {},
     "output_type": "execute_result"
    }
   ],
   "source": [
    "len(urls)"
   ]
  },
  {
   "cell_type": "raw",
   "metadata": {},
   "source": [
    "Download Images"
   ]
  },
  {
   "cell_type": "code",
   "execution_count": 15,
   "metadata": {},
   "outputs": [],
   "source": [
    "import shutil\n",
    "import requests"
   ]
  },
  {
   "cell_type": "code",
   "execution_count": 16,
   "metadata": {},
   "outputs": [
    {
     "name": "stdout",
     "output_type": "stream",
     "text": [
      "Downloading 1 of 64 images from page 1\n",
      "Downloading 2 of 64 images from page 1\n",
      "Downloading 3 of 64 images from page 1\n",
      "Downloading 4 of 64 images from page 1\n",
      "Downloading 5 of 64 images from page 1\n",
      "Downloading 6 of 64 images from page 1\n",
      "Downloading 7 of 64 images from page 1\n",
      "Downloading 8 of 64 images from page 1\n",
      "Downloading 9 of 64 images from page 1\n",
      "Downloading 10 of 64 images from page 1\n",
      "Downloading 11 of 64 images from page 1\n",
      "Downloading 12 of 64 images from page 1\n",
      "Downloading 13 of 64 images from page 1\n",
      "Downloading 14 of 64 images from page 1\n",
      "Downloading 15 of 64 images from page 1\n",
      "Downloading 16 of 64 images from page 1\n",
      "Downloading 17 of 64 images from page 1\n",
      "Downloading 18 of 64 images from page 1\n",
      "Downloading 19 of 64 images from page 1\n",
      "Downloading 20 of 64 images from page 1\n",
      "Downloading 21 of 64 images from page 1\n",
      "Downloading 22 of 64 images from page 1\n",
      "Downloading 23 of 64 images from page 1\n",
      "Downloading 24 of 64 images from page 1\n",
      "Downloading 25 of 64 images from page 1\n",
      "Downloading 26 of 64 images from page 1\n",
      "Downloading 27 of 64 images from page 1\n",
      "Downloading 28 of 64 images from page 1\n",
      "Downloading 29 of 64 images from page 1\n",
      "Downloading 30 of 64 images from page 1\n",
      "Downloading 31 of 64 images from page 1\n",
      "Downloading 32 of 64 images from page 1\n",
      "Downloading 33 of 64 images from page 1\n",
      "Downloading 34 of 64 images from page 1\n",
      "Downloading 35 of 64 images from page 1\n",
      "Downloading 36 of 64 images from page 1\n",
      "Downloading 37 of 64 images from page 1\n",
      "Downloading 38 of 64 images from page 1\n",
      "Downloading 39 of 64 images from page 1\n",
      "Downloading 40 of 64 images from page 1\n",
      "Downloading 41 of 64 images from page 1\n",
      "Downloading 42 of 64 images from page 1\n",
      "Downloading 43 of 64 images from page 1\n",
      "Downloading 44 of 64 images from page 1\n",
      "Downloading 45 of 64 images from page 1\n",
      "Downloading 46 of 64 images from page 1\n",
      "Downloading 47 of 64 images from page 1\n",
      "Downloading 48 of 64 images from page 1\n",
      "Downloading 49 of 64 images from page 1\n",
      "Downloading 50 of 64 images from page 1\n",
      "Downloading 51 of 64 images from page 1\n",
      "Downloading 52 of 64 images from page 1\n",
      "Downloading 53 of 64 images from page 1\n",
      "Downloading 54 of 64 images from page 1\n",
      "Downloading 55 of 64 images from page 1\n",
      "Downloading 56 of 64 images from page 1\n",
      "Downloading 57 of 64 images from page 1\n",
      "Downloading 58 of 64 images from page 1\n",
      "Downloading 59 of 64 images from page 1\n",
      "Downloading 60 of 64 images from page 1\n",
      "Downloading 61 of 64 images from page 1\n",
      "Downloading 62 of 64 images from page 1\n",
      "Downloading 63 of 64 images from page 1\n",
      "Downloading 64 of 64 images from page 1\n"
     ]
    }
   ],
   "source": [
    "page=1\n",
    "for index, link in enumerate(urls):\n",
    "    print(\"Downloading {0} of {1} images from page 1\".format(index+1, len(urls)))\n",
    "    response=requests.get(link)\n",
    "    with open('Sarees Women/img{0}{1}.jpeg'.format(index,page),\"wb\")as file:\n",
    "        file.write(response.content)\n",
    "        "
   ]
  },
  {
   "cell_type": "markdown",
   "metadata": {},
   "source": [
    "Moving to the next page"
   ]
  },
  {
   "cell_type": "code",
   "execution_count": 17,
   "metadata": {},
   "outputs": [],
   "source": [
    "next_page=driver.find_element_by_xpath(\"//li[@class = 'a-last']//a\").click()"
   ]
  },
  {
   "cell_type": "code",
   "execution_count": 18,
   "metadata": {},
   "outputs": [],
   "source": [
    "images=driver.find_elements_by_xpath(\"//img[@class ='s-image' ]\")"
   ]
  },
  {
   "cell_type": "code",
   "execution_count": 19,
   "metadata": {},
   "outputs": [
    {
     "data": {
      "text/plain": [
       "0"
      ]
     },
     "execution_count": 19,
     "metadata": {},
     "output_type": "execute_result"
    }
   ],
   "source": [
    "len(images)"
   ]
  },
  {
   "cell_type": "code",
   "execution_count": 32,
   "metadata": {},
   "outputs": [
    {
     "name": "stdout",
     "output_type": "stream",
     "text": [
      "https://m.media-amazon.com/images/I/718S+pk0GZL._AC_UL320_.jpg\n",
      "https://m.media-amazon.com/images/I/71FB7BOjgnL._AC_UL320_.jpg\n",
      "https://m.media-amazon.com/images/I/61V7hnmv0CL._AC_UL320_.jpg\n",
      "https://m.media-amazon.com/images/I/61C7upSB2vL._AC_UL320_.jpg\n",
      "https://m.media-amazon.com/images/I/61RKnrSqBCL._AC_UL320_.jpg\n",
      "https://m.media-amazon.com/images/I/61TsX0Gn73L._AC_UL320_.jpg\n",
      "https://m.media-amazon.com/images/I/71yIZJdC28L._AC_UL320_.jpg\n",
      "https://m.media-amazon.com/images/I/81O9HG8ydFL._AC_UL320_.jpg\n",
      "https://m.media-amazon.com/images/I/71EAPikTuQL._AC_UL320_.jpg\n",
      "https://m.media-amazon.com/images/I/61DDTK7BN-L._AC_UL320_.jpg\n",
      "https://m.media-amazon.com/images/I/518vKALDPuL._AC_UL320_.jpg\n",
      "https://m.media-amazon.com/images/I/51lc2J8W-mL._AC_UL320_.jpg\n",
      "https://m.media-amazon.com/images/I/81Mh56Yf83L._AC_UL320_.jpg\n",
      "https://m.media-amazon.com/images/I/51iwhxFYKmL._AC_UL320_.jpg\n",
      "https://m.media-amazon.com/images/I/513JgXuAAwL._AC_UL320_.jpg\n",
      "https://m.media-amazon.com/images/I/71mf9aWSsBL._AC_UL320_.jpg\n",
      "https://m.media-amazon.com/images/I/71+G0cuRNvL._AC_UL320_.jpg\n",
      "https://m.media-amazon.com/images/I/81UwKKEVb1L._AC_UL320_.jpg\n",
      "https://m.media-amazon.com/images/I/61I-9PzZBXL._AC_UL320_.jpg\n",
      "https://m.media-amazon.com/images/I/81cgAFX29oL._AC_UL320_.jpg\n",
      "https://m.media-amazon.com/images/I/71u47o-yKnL._AC_UL320_.jpg\n",
      "https://m.media-amazon.com/images/I/51C1EbFIOKL._AC_UL320_.jpg\n",
      "https://m.media-amazon.com/images/I/71iA2zQdFbL._AC_UL320_.jpg\n",
      "https://m.media-amazon.com/images/I/81PFSJgM4kL._AC_UL320_.jpg\n",
      "https://m.media-amazon.com/images/I/61T6Q6We-nL._AC_UL320_.jpg\n",
      "https://m.media-amazon.com/images/I/71vxfK2yhcL._AC_UL320_.jpg\n",
      "https://m.media-amazon.com/images/I/71xZpitvRML._AC_UL320_.jpg\n",
      "https://m.media-amazon.com/images/I/71nkPKpFEqL._AC_UL320_.jpg\n",
      "https://m.media-amazon.com/images/I/61kxoLAB-rL._AC_UL320_.jpg\n",
      "https://m.media-amazon.com/images/I/51PAvYvziBL._AC_UL320_.jpg\n",
      "https://m.media-amazon.com/images/I/71+SNWIF2xL._AC_UL320_.jpg\n",
      "https://m.media-amazon.com/images/I/51H86JddBWL._AC_UL320_.jpg\n",
      "https://m.media-amazon.com/images/I/41y8WJpHigL._AC_UL320_.jpg\n",
      "https://m.media-amazon.com/images/I/71VCSKsobmL._AC_UL320_.jpg\n",
      "https://m.media-amazon.com/images/I/71ETLX5vIQL._AC_UL320_.jpg\n",
      "https://m.media-amazon.com/images/I/71mPrxTrE-L._AC_UL320_.jpg\n",
      "https://m.media-amazon.com/images/I/31QYXZdXqtL._AC_UL320_.jpg\n",
      "https://m.media-amazon.com/images/I/71qLwq+OxmL._AC_UL320_.jpg\n",
      "https://m.media-amazon.com/images/I/81teKjNigbL._AC_UL320_.jpg\n",
      "https://m.media-amazon.com/images/I/81DOwUqSO6L._AC_UL320_.jpg\n",
      "https://m.media-amazon.com/images/I/81lJwMsvB3L._AC_UL320_.jpg\n",
      "https://m.media-amazon.com/images/I/81BmbWD5l5L._AC_UL320_.jpg\n",
      "https://m.media-amazon.com/images/I/613jRvG1xBL._AC_UL320_.jpg\n",
      "https://m.media-amazon.com/images/I/71GX7epgFLL._AC_UL320_.jpg\n",
      "https://m.media-amazon.com/images/I/71-3JogmPnL._AC_UL320_.jpg\n",
      "https://m.media-amazon.com/images/I/41i8-8fWKGL._AC_UL320_.jpg\n",
      "https://m.media-amazon.com/images/I/71tNxiDoFlL._AC_UL320_.jpg\n",
      "https://m.media-amazon.com/images/I/71NM-ZMZnmL._AC_UL320_.jpg\n",
      "https://m.media-amazon.com/images/I/71wxSLHjfAL._AC_UL320_.jpg\n",
      "https://m.media-amazon.com/images/I/610uTynDIBL._AC_UL320_.jpg\n",
      "https://m.media-amazon.com/images/I/51QKc6hDrwL._AC_UL320_.jpg\n",
      "https://m.media-amazon.com/images/I/71LoodMgvsL._AC_UL320_.jpg\n",
      "https://m.media-amazon.com/images/I/81JZ-jG110L._AC_UL320_.jpg\n",
      "https://m.media-amazon.com/images/I/310-c+m+dDL._AC_UL320_.jpg\n",
      "https://m.media-amazon.com/images/I/611AMZGGHNL._AC_UL320_.jpg\n",
      "https://m.media-amazon.com/images/I/81zh36QEztL._AC_UL320_.jpg\n",
      "https://m.media-amazon.com/images/I/51GPPdnaZCL._AC_UL320_.jpg\n",
      "https://m.media-amazon.com/images/I/91IxwzgkBAL._AC_UL320_.jpg\n",
      "https://m.media-amazon.com/images/I/71O3oeRsL7L._AC_UL320_.jpg\n",
      "https://m.media-amazon.com/images/I/71xus7t4u3L._AC_UL320_.jpg\n"
     ]
    }
   ],
   "source": [
    "urls=[]\n",
    "for image in images:\n",
    "    source=image.get_attribute('src')\n",
    "    urls.append(source)\n",
    "    print(source)"
   ]
  },
  {
   "cell_type": "code",
   "execution_count": null,
   "metadata": {},
   "outputs": [],
   "source": []
  },
  {
   "cell_type": "code",
   "execution_count": 21,
   "metadata": {},
   "outputs": [],
   "source": [
    "page=2\n",
    "for index, link in enumerate(urls):\n",
    "    print(\"Downloading {0} of {1} images from page 2\".format(index+1, len(urls)))\n",
    "    response=requests.get(link)\n",
    "    with open('Sarees Women/img{0}{1}.jpeg'.format(index,page),\"wb\")as file:\n",
    "        file.write(response.content)"
   ]
  },
  {
   "cell_type": "code",
   "execution_count": null,
   "metadata": {},
   "outputs": [],
   "source": []
  },
  {
   "cell_type": "markdown",
   "metadata": {},
   "source": [
    "Now scrapping for Mens Trousers"
   ]
  },
  {
   "cell_type": "code",
   "execution_count": 23,
   "metadata": {},
   "outputs": [],
   "source": [
    "page_t=driver.get('https://www.amazon.in/s?rh=n%3A1968125031&fs=true&ref=lp_1968125031_sar')"
   ]
  },
  {
   "cell_type": "code",
   "execution_count": 24,
   "metadata": {},
   "outputs": [],
   "source": [
    "images=driver.find_elements_by_xpath(\"//img[@class ='s-image' ]\")"
   ]
  },
  {
   "cell_type": "code",
   "execution_count": 25,
   "metadata": {},
   "outputs": [
    {
     "name": "stdout",
     "output_type": "stream",
     "text": [
      "60\n"
     ]
    }
   ],
   "source": [
    "print(len(images))"
   ]
  },
  {
   "cell_type": "code",
   "execution_count": 27,
   "metadata": {},
   "outputs": [
    {
     "name": "stdout",
     "output_type": "stream",
     "text": [
      "https://m.media-amazon.com/images/I/718S+pk0GZL._AC_UL320_.jpg\n",
      "https://m.media-amazon.com/images/I/71FB7BOjgnL._AC_UL320_.jpg\n",
      "https://m.media-amazon.com/images/I/61V7hnmv0CL._AC_UL320_.jpg\n",
      "https://m.media-amazon.com/images/I/61YHPSJEbAL._AC_UL320_.jpg\n",
      "https://m.media-amazon.com/images/I/81Lg1x1O29L._AC_UL320_.jpg\n",
      "https://m.media-amazon.com/images/I/81aKPu-Gl-L._AC_UL320_.jpg\n",
      "https://m.media-amazon.com/images/I/71ij9BXtILL._AC_UL320_.jpg\n",
      "https://m.media-amazon.com/images/I/61KwCbPkOyL._AC_UL320_.jpg\n",
      "https://m.media-amazon.com/images/I/71J4eD0bqQL._AC_UL320_.jpg\n",
      "https://m.media-amazon.com/images/I/61ELAf0ZLcL._AC_UL320_.jpg\n",
      "https://m.media-amazon.com/images/I/71o4Wrj45oL._AC_UL320_.jpg\n",
      "https://m.media-amazon.com/images/I/51H86JddBWL._AC_UL320_.jpg\n",
      "https://m.media-amazon.com/images/I/81-9O33VgBL._AC_UL320_.jpg\n",
      "https://m.media-amazon.com/images/I/71XNKLBwy9L._AC_UL320_.jpg\n",
      "https://m.media-amazon.com/images/I/81d37fLAwUL._AC_UL320_.jpg\n",
      "https://m.media-amazon.com/images/I/81RQWN2nENL._AC_UL320_.jpg\n",
      "https://m.media-amazon.com/images/I/71bZfPvkpIL._AC_UL320_.jpg\n",
      "https://m.media-amazon.com/images/I/61NKxXc+lIL._AC_UL320_.jpg\n",
      "https://m.media-amazon.com/images/I/81AtPWxSAyL._AC_UL320_.jpg\n",
      "https://m.media-amazon.com/images/I/81e9hGPqolL._AC_UL320_.jpg\n",
      "https://m.media-amazon.com/images/I/71ESlnVyI2L._AC_UL320_.jpg\n",
      "https://m.media-amazon.com/images/I/813u-pAoqOL._AC_UL320_.jpg\n",
      "https://m.media-amazon.com/images/I/61+v29g-AvL._AC_UL320_.jpg\n",
      "https://m.media-amazon.com/images/I/51j+7DGQDyL._AC_UL320_.jpg\n",
      "https://m.media-amazon.com/images/I/61pRJxuoRQL._AC_UL320_.jpg\n",
      "https://m.media-amazon.com/images/I/71-303GvwhL._AC_UL320_.jpg\n",
      "https://m.media-amazon.com/images/I/71dvIDrJkVL._AC_UL320_.jpg\n",
      "https://m.media-amazon.com/images/I/61seDzWStbL._AC_UL320_.jpg\n",
      "https://m.media-amazon.com/images/I/61kxoLAB-rL._AC_UL320_.jpg\n",
      "https://m.media-amazon.com/images/I/51PAvYvziBL._AC_UL320_.jpg\n",
      "https://m.media-amazon.com/images/I/71+SNWIF2xL._AC_UL320_.jpg\n",
      "https://m.media-amazon.com/images/I/51H86JddBWL._AC_UL320_.jpg\n",
      "https://m.media-amazon.com/images/I/71ij9BXtILL._AC_UL320_.jpg\n",
      "https://m.media-amazon.com/images/I/61Ri6MUj3qL._AC_UL320_.jpg\n",
      "https://m.media-amazon.com/images/I/31-B5B0mEDL._AC_UL320_.jpg\n",
      "https://m.media-amazon.com/images/I/71lD6Zr4V3L._AC_UL320_.jpg\n",
      "https://m.media-amazon.com/images/I/81vOn7CyUWL._AC_UL320_.jpg\n",
      "https://m.media-amazon.com/images/I/61PfB8ObhVL._AC_UL320_.jpg\n",
      "https://m.media-amazon.com/images/I/71zLO45349L._AC_UL320_.jpg\n",
      "https://m.media-amazon.com/images/I/71pgtmd8FpL._AC_UL320_.jpg\n",
      "https://m.media-amazon.com/images/I/71jfz6ObDfL._AC_UL320_.jpg\n",
      "https://m.media-amazon.com/images/I/81C2eaWfBVL._AC_UL320_.jpg\n",
      "https://m.media-amazon.com/images/I/71gpDZ7uWpL._AC_UL320_.jpg\n",
      "https://m.media-amazon.com/images/I/718AoRx9hgL._AC_UL320_.jpg\n",
      "https://m.media-amazon.com/images/I/81V+cLWewjL._AC_UL320_.jpg\n",
      "https://m.media-amazon.com/images/I/61jQCh4M0uL._AC_UL320_.jpg\n",
      "https://m.media-amazon.com/images/I/919ONwO7HnL._AC_UL320_.jpg\n",
      "https://m.media-amazon.com/images/I/31DLX2xvIOL._AC_UL320_.jpg\n",
      "https://m.media-amazon.com/images/I/71azV0bA62L._AC_UL320_.jpg\n",
      "https://m.media-amazon.com/images/I/71ba655rWYL._AC_UL320_.jpg\n",
      "https://m.media-amazon.com/images/I/61LV5OG--oL._AC_UL320_.jpg\n",
      "https://m.media-amazon.com/images/I/710fA4BBqpL._AC_UL320_.jpg\n",
      "https://m.media-amazon.com/images/I/712DgzsqUSL._AC_UL320_.jpg\n",
      "https://m.media-amazon.com/images/I/71XHgV07eCL._AC_UL320_.jpg\n",
      "https://m.media-amazon.com/images/I/71tHnPbUjVL._AC_UL320_.jpg\n",
      "https://m.media-amazon.com/images/I/610obmvmQfL._AC_UL320_.jpg\n",
      "https://m.media-amazon.com/images/I/51GPPdnaZCL._AC_UL320_.jpg\n",
      "https://m.media-amazon.com/images/I/91IxwzgkBAL._AC_UL320_.jpg\n",
      "https://m.media-amazon.com/images/I/71O3oeRsL7L._AC_UL320_.jpg\n",
      "https://m.media-amazon.com/images/I/71xus7t4u3L._AC_UL320_.jpg\n"
     ]
    }
   ],
   "source": [
    "urls=[]\n",
    "for image in images:\n",
    "    source=image.get_attribute('src')\n",
    "    urls.append(source)\n",
    "    print(source)"
   ]
  },
  {
   "cell_type": "code",
   "execution_count": 28,
   "metadata": {},
   "outputs": [
    {
     "name": "stdout",
     "output_type": "stream",
     "text": [
      "Downloading 1 of 60 images from page 1\n",
      "Downloading 2 of 60 images from page 1\n",
      "Downloading 3 of 60 images from page 1\n",
      "Downloading 4 of 60 images from page 1\n",
      "Downloading 5 of 60 images from page 1\n",
      "Downloading 6 of 60 images from page 1\n",
      "Downloading 7 of 60 images from page 1\n",
      "Downloading 8 of 60 images from page 1\n",
      "Downloading 9 of 60 images from page 1\n",
      "Downloading 10 of 60 images from page 1\n",
      "Downloading 11 of 60 images from page 1\n",
      "Downloading 12 of 60 images from page 1\n",
      "Downloading 13 of 60 images from page 1\n",
      "Downloading 14 of 60 images from page 1\n",
      "Downloading 15 of 60 images from page 1\n",
      "Downloading 16 of 60 images from page 1\n",
      "Downloading 17 of 60 images from page 1\n",
      "Downloading 18 of 60 images from page 1\n",
      "Downloading 19 of 60 images from page 1\n",
      "Downloading 20 of 60 images from page 1\n",
      "Downloading 21 of 60 images from page 1\n",
      "Downloading 22 of 60 images from page 1\n",
      "Downloading 23 of 60 images from page 1\n",
      "Downloading 24 of 60 images from page 1\n",
      "Downloading 25 of 60 images from page 1\n",
      "Downloading 26 of 60 images from page 1\n",
      "Downloading 27 of 60 images from page 1\n",
      "Downloading 28 of 60 images from page 1\n",
      "Downloading 29 of 60 images from page 1\n",
      "Downloading 30 of 60 images from page 1\n",
      "Downloading 31 of 60 images from page 1\n",
      "Downloading 32 of 60 images from page 1\n",
      "Downloading 33 of 60 images from page 1\n",
      "Downloading 34 of 60 images from page 1\n",
      "Downloading 35 of 60 images from page 1\n",
      "Downloading 36 of 60 images from page 1\n",
      "Downloading 37 of 60 images from page 1\n",
      "Downloading 38 of 60 images from page 1\n",
      "Downloading 39 of 60 images from page 1\n",
      "Downloading 40 of 60 images from page 1\n",
      "Downloading 41 of 60 images from page 1\n",
      "Downloading 42 of 60 images from page 1\n",
      "Downloading 43 of 60 images from page 1\n",
      "Downloading 44 of 60 images from page 1\n",
      "Downloading 45 of 60 images from page 1\n",
      "Downloading 46 of 60 images from page 1\n",
      "Downloading 47 of 60 images from page 1\n",
      "Downloading 48 of 60 images from page 1\n",
      "Downloading 49 of 60 images from page 1\n",
      "Downloading 50 of 60 images from page 1\n",
      "Downloading 51 of 60 images from page 1\n",
      "Downloading 52 of 60 images from page 1\n",
      "Downloading 53 of 60 images from page 1\n",
      "Downloading 54 of 60 images from page 1\n",
      "Downloading 55 of 60 images from page 1\n",
      "Downloading 56 of 60 images from page 1\n",
      "Downloading 57 of 60 images from page 1\n",
      "Downloading 58 of 60 images from page 1\n",
      "Downloading 59 of 60 images from page 1\n",
      "Downloading 60 of 60 images from page 1\n"
     ]
    }
   ],
   "source": [
    "page=1\n",
    "for index, link in enumerate(urls):\n",
    "    print(\"Downloading {0} of {1} images from page 1\".format(index+1, len(urls)))\n",
    "    response=requests.get(link)\n",
    "    with open('Trousers Men/img{0}{1}.jpeg'.format(index,page),\"wb\")as file:\n",
    "        file.write(response.content)"
   ]
  },
  {
   "cell_type": "code",
   "execution_count": 30,
   "metadata": {},
   "outputs": [],
   "source": [
    "next_page=driver.find_element_by_xpath(\"//li[@class = 'a-last']//a\").click()"
   ]
  },
  {
   "cell_type": "code",
   "execution_count": 31,
   "metadata": {},
   "outputs": [],
   "source": [
    "images=driver.find_elements_by_xpath(\"//img[@class ='s-image' ]\")"
   ]
  },
  {
   "cell_type": "code",
   "execution_count": 33,
   "metadata": {},
   "outputs": [
    {
     "name": "stdout",
     "output_type": "stream",
     "text": [
      "https://m.media-amazon.com/images/I/718S+pk0GZL._AC_UL320_.jpg\n",
      "https://m.media-amazon.com/images/I/71FB7BOjgnL._AC_UL320_.jpg\n",
      "https://m.media-amazon.com/images/I/61V7hnmv0CL._AC_UL320_.jpg\n",
      "https://m.media-amazon.com/images/I/61C7upSB2vL._AC_UL320_.jpg\n",
      "https://m.media-amazon.com/images/I/61RKnrSqBCL._AC_UL320_.jpg\n",
      "https://m.media-amazon.com/images/I/61TsX0Gn73L._AC_UL320_.jpg\n",
      "https://m.media-amazon.com/images/I/71yIZJdC28L._AC_UL320_.jpg\n",
      "https://m.media-amazon.com/images/I/81O9HG8ydFL._AC_UL320_.jpg\n",
      "https://m.media-amazon.com/images/I/71EAPikTuQL._AC_UL320_.jpg\n",
      "https://m.media-amazon.com/images/I/61DDTK7BN-L._AC_UL320_.jpg\n",
      "https://m.media-amazon.com/images/I/518vKALDPuL._AC_UL320_.jpg\n",
      "https://m.media-amazon.com/images/I/51lc2J8W-mL._AC_UL320_.jpg\n",
      "https://m.media-amazon.com/images/I/81Mh56Yf83L._AC_UL320_.jpg\n",
      "https://m.media-amazon.com/images/I/51iwhxFYKmL._AC_UL320_.jpg\n",
      "https://m.media-amazon.com/images/I/513JgXuAAwL._AC_UL320_.jpg\n",
      "https://m.media-amazon.com/images/I/71mf9aWSsBL._AC_UL320_.jpg\n",
      "https://m.media-amazon.com/images/I/71+G0cuRNvL._AC_UL320_.jpg\n",
      "https://m.media-amazon.com/images/I/81UwKKEVb1L._AC_UL320_.jpg\n",
      "https://m.media-amazon.com/images/I/61I-9PzZBXL._AC_UL320_.jpg\n",
      "https://m.media-amazon.com/images/I/81cgAFX29oL._AC_UL320_.jpg\n",
      "https://m.media-amazon.com/images/I/71u47o-yKnL._AC_UL320_.jpg\n",
      "https://m.media-amazon.com/images/I/51C1EbFIOKL._AC_UL320_.jpg\n",
      "https://m.media-amazon.com/images/I/71iA2zQdFbL._AC_UL320_.jpg\n",
      "https://m.media-amazon.com/images/I/81PFSJgM4kL._AC_UL320_.jpg\n",
      "https://m.media-amazon.com/images/I/61T6Q6We-nL._AC_UL320_.jpg\n",
      "https://m.media-amazon.com/images/I/71vxfK2yhcL._AC_UL320_.jpg\n",
      "https://m.media-amazon.com/images/I/71xZpitvRML._AC_UL320_.jpg\n",
      "https://m.media-amazon.com/images/I/71nkPKpFEqL._AC_UL320_.jpg\n",
      "https://m.media-amazon.com/images/I/61kxoLAB-rL._AC_UL320_.jpg\n",
      "https://m.media-amazon.com/images/I/51PAvYvziBL._AC_UL320_.jpg\n",
      "https://m.media-amazon.com/images/I/71+SNWIF2xL._AC_UL320_.jpg\n",
      "https://m.media-amazon.com/images/I/51H86JddBWL._AC_UL320_.jpg\n",
      "https://m.media-amazon.com/images/I/41y8WJpHigL._AC_UL320_.jpg\n",
      "https://m.media-amazon.com/images/I/71VCSKsobmL._AC_UL320_.jpg\n",
      "https://m.media-amazon.com/images/I/71ETLX5vIQL._AC_UL320_.jpg\n",
      "https://m.media-amazon.com/images/I/71mPrxTrE-L._AC_UL320_.jpg\n",
      "https://m.media-amazon.com/images/I/31QYXZdXqtL._AC_UL320_.jpg\n",
      "https://m.media-amazon.com/images/I/71qLwq+OxmL._AC_UL320_.jpg\n",
      "https://m.media-amazon.com/images/I/81teKjNigbL._AC_UL320_.jpg\n",
      "https://m.media-amazon.com/images/I/81DOwUqSO6L._AC_UL320_.jpg\n",
      "https://m.media-amazon.com/images/I/81lJwMsvB3L._AC_UL320_.jpg\n",
      "https://m.media-amazon.com/images/I/81BmbWD5l5L._AC_UL320_.jpg\n",
      "https://m.media-amazon.com/images/I/613jRvG1xBL._AC_UL320_.jpg\n",
      "https://m.media-amazon.com/images/I/71GX7epgFLL._AC_UL320_.jpg\n",
      "https://m.media-amazon.com/images/I/71-3JogmPnL._AC_UL320_.jpg\n",
      "https://m.media-amazon.com/images/I/41i8-8fWKGL._AC_UL320_.jpg\n",
      "https://m.media-amazon.com/images/I/71tNxiDoFlL._AC_UL320_.jpg\n",
      "https://m.media-amazon.com/images/I/71NM-ZMZnmL._AC_UL320_.jpg\n",
      "https://m.media-amazon.com/images/I/71wxSLHjfAL._AC_UL320_.jpg\n",
      "https://m.media-amazon.com/images/I/610uTynDIBL._AC_UL320_.jpg\n",
      "https://m.media-amazon.com/images/I/51QKc6hDrwL._AC_UL320_.jpg\n",
      "https://m.media-amazon.com/images/I/71LoodMgvsL._AC_UL320_.jpg\n",
      "https://m.media-amazon.com/images/I/81JZ-jG110L._AC_UL320_.jpg\n",
      "https://m.media-amazon.com/images/I/310-c+m+dDL._AC_UL320_.jpg\n",
      "https://m.media-amazon.com/images/I/611AMZGGHNL._AC_UL320_.jpg\n",
      "https://m.media-amazon.com/images/I/81zh36QEztL._AC_UL320_.jpg\n",
      "https://m.media-amazon.com/images/I/51GPPdnaZCL._AC_UL320_.jpg\n",
      "https://m.media-amazon.com/images/I/91IxwzgkBAL._AC_UL320_.jpg\n",
      "https://m.media-amazon.com/images/I/71O3oeRsL7L._AC_UL320_.jpg\n",
      "https://m.media-amazon.com/images/I/71xus7t4u3L._AC_UL320_.jpg\n"
     ]
    }
   ],
   "source": [
    "urls=[]\n",
    "for image in images:\n",
    "    source=image.get_attribute('src')\n",
    "    urls.append(source)\n",
    "    print(source)"
   ]
  },
  {
   "cell_type": "code",
   "execution_count": 34,
   "metadata": {},
   "outputs": [
    {
     "name": "stdout",
     "output_type": "stream",
     "text": [
      "Downloading 1 of 60 images from page 2\n",
      "Downloading 2 of 60 images from page 2\n",
      "Downloading 3 of 60 images from page 2\n",
      "Downloading 4 of 60 images from page 2\n",
      "Downloading 5 of 60 images from page 2\n",
      "Downloading 6 of 60 images from page 2\n",
      "Downloading 7 of 60 images from page 2\n",
      "Downloading 8 of 60 images from page 2\n",
      "Downloading 9 of 60 images from page 2\n",
      "Downloading 10 of 60 images from page 2\n",
      "Downloading 11 of 60 images from page 2\n",
      "Downloading 12 of 60 images from page 2\n",
      "Downloading 13 of 60 images from page 2\n",
      "Downloading 14 of 60 images from page 2\n",
      "Downloading 15 of 60 images from page 2\n",
      "Downloading 16 of 60 images from page 2\n",
      "Downloading 17 of 60 images from page 2\n",
      "Downloading 18 of 60 images from page 2\n",
      "Downloading 19 of 60 images from page 2\n",
      "Downloading 20 of 60 images from page 2\n",
      "Downloading 21 of 60 images from page 2\n",
      "Downloading 22 of 60 images from page 2\n",
      "Downloading 23 of 60 images from page 2\n",
      "Downloading 24 of 60 images from page 2\n",
      "Downloading 25 of 60 images from page 2\n",
      "Downloading 26 of 60 images from page 2\n",
      "Downloading 27 of 60 images from page 2\n",
      "Downloading 28 of 60 images from page 2\n",
      "Downloading 29 of 60 images from page 2\n",
      "Downloading 30 of 60 images from page 2\n",
      "Downloading 31 of 60 images from page 2\n",
      "Downloading 32 of 60 images from page 2\n",
      "Downloading 33 of 60 images from page 2\n",
      "Downloading 34 of 60 images from page 2\n",
      "Downloading 35 of 60 images from page 2\n",
      "Downloading 36 of 60 images from page 2\n",
      "Downloading 37 of 60 images from page 2\n",
      "Downloading 38 of 60 images from page 2\n",
      "Downloading 39 of 60 images from page 2\n",
      "Downloading 40 of 60 images from page 2\n",
      "Downloading 41 of 60 images from page 2\n",
      "Downloading 42 of 60 images from page 2\n",
      "Downloading 43 of 60 images from page 2\n",
      "Downloading 44 of 60 images from page 2\n",
      "Downloading 45 of 60 images from page 2\n",
      "Downloading 46 of 60 images from page 2\n",
      "Downloading 47 of 60 images from page 2\n",
      "Downloading 48 of 60 images from page 2\n",
      "Downloading 49 of 60 images from page 2\n",
      "Downloading 50 of 60 images from page 2\n",
      "Downloading 51 of 60 images from page 2\n",
      "Downloading 52 of 60 images from page 2\n",
      "Downloading 53 of 60 images from page 2\n",
      "Downloading 54 of 60 images from page 2\n",
      "Downloading 55 of 60 images from page 2\n",
      "Downloading 56 of 60 images from page 2\n",
      "Downloading 57 of 60 images from page 2\n",
      "Downloading 58 of 60 images from page 2\n",
      "Downloading 59 of 60 images from page 2\n",
      "Downloading 60 of 60 images from page 2\n"
     ]
    }
   ],
   "source": [
    "page=2\n",
    "for index, link in enumerate(urls):\n",
    "    print(\"Downloading {0} of {1} images from page 2\".format(index+1, len(urls)))\n",
    "    response=requests.get(link)\n",
    "    with open('Trousers Men/img{0}{1}.jpeg'.format(index,page),\"wb\")as file:\n",
    "        file.write(response.content)"
   ]
  },
  {
   "cell_type": "code",
   "execution_count": 35,
   "metadata": {},
   "outputs": [],
   "source": [
    "next_page=driver.find_element_by_xpath(\"//li[@class = 'a-last']//a\").click()"
   ]
  },
  {
   "cell_type": "code",
   "execution_count": 36,
   "metadata": {},
   "outputs": [],
   "source": [
    "images=driver.find_elements_by_xpath(\"//img[@class ='s-image' ]\")"
   ]
  },
  {
   "cell_type": "code",
   "execution_count": 37,
   "metadata": {},
   "outputs": [
    {
     "name": "stdout",
     "output_type": "stream",
     "text": [
      "https://m.media-amazon.com/images/I/71FB7BOjgnL._AC_UL320_.jpg\n",
      "https://m.media-amazon.com/images/I/61V7hnmv0CL._AC_UL320_.jpg\n",
      "https://m.media-amazon.com/images/I/61YHPSJEbAL._AC_UL320_.jpg\n",
      "https://m.media-amazon.com/images/I/619JIgOmTqL._AC_UL320_.jpg\n",
      "https://m.media-amazon.com/images/I/71ij9BXtILL._AC_UL320_.jpg\n",
      "https://m.media-amazon.com/images/I/71qzQWoqDvL._AC_UL320_.jpg\n",
      "https://m.media-amazon.com/images/I/71haKlhpIgL._AC_UL320_.jpg\n",
      "https://m.media-amazon.com/images/I/613jRvG1xBL._AC_UL320_.jpg\n",
      "https://m.media-amazon.com/images/I/71kdVCKPy3L._AC_UL320_.jpg\n",
      "https://m.media-amazon.com/images/I/31gTrF20b2L._AC_UL320_.jpg\n",
      "https://m.media-amazon.com/images/I/71+QqgkiTYL._AC_UL320_.jpg\n",
      "https://m.media-amazon.com/images/I/81ccugdOKeL._AC_UL320_.jpg\n",
      "https://m.media-amazon.com/images/I/51xSZ3-etZL._AC_UL320_.jpg\n",
      "https://m.media-amazon.com/images/I/61nBjse81yL._AC_UL320_.jpg\n",
      "https://m.media-amazon.com/images/I/61sEI0NeNAL._AC_UL320_.jpg\n",
      "https://m.media-amazon.com/images/I/71K2xhConcL._AC_UL320_.jpg\n",
      "https://m.media-amazon.com/images/I/61Dr8-DgzCL._AC_UL320_.jpg\n",
      "https://m.media-amazon.com/images/I/71RDRa5YYhL._AC_UL320_.jpg\n",
      "https://m.media-amazon.com/images/I/6184Tg0LjEL._AC_UL320_.jpg\n",
      "https://m.media-amazon.com/images/I/71EAPikTuQL._AC_UL320_.jpg\n",
      "https://m.media-amazon.com/images/I/51rlH2Ut1tL._AC_UL320_.jpg\n",
      "https://m.media-amazon.com/images/I/817nHHh2eyL._AC_UL320_.jpg\n",
      "https://m.media-amazon.com/images/I/71+mIAH6umL._AC_UL320_.jpg\n",
      "https://m.media-amazon.com/images/I/71pcF4XQDyL._AC_UL320_.jpg\n",
      "https://m.media-amazon.com/images/I/71ooEqQarPL._AC_UL320_.jpg\n",
      "https://m.media-amazon.com/images/I/31Fu9RijEFL._AC_UL320_.jpg\n",
      "https://m.media-amazon.com/images/I/81teKjNigbL._AC_UL320_.jpg\n",
      "https://m.media-amazon.com/images/I/610crFA7BJL._AC_UL320_.jpg\n",
      "https://m.media-amazon.com/images/I/61kxoLAB-rL._AC_UL320_.jpg\n",
      "https://m.media-amazon.com/images/I/71+SNWIF2xL._AC_UL320_.jpg\n",
      "https://m.media-amazon.com/images/I/51GPPdnaZCL._AC_UL320_.jpg\n",
      "https://m.media-amazon.com/images/I/51H86JddBWL._AC_UL320_.jpg\n",
      "https://m.media-amazon.com/images/I/81U+AGE7LmL._AC_UL320_.jpg\n",
      "https://m.media-amazon.com/images/I/612YDUsbv1L._AC_UL320_.jpg\n",
      "https://m.media-amazon.com/images/I/81rqzK2UG+L._AC_UL320_.jpg\n",
      "https://m.media-amazon.com/images/I/71x76XsLgeL._AC_UL320_.jpg\n",
      "https://m.media-amazon.com/images/I/61VRREpZ4PL._AC_UL320_.jpg\n",
      "https://m.media-amazon.com/images/I/61x3Txw7WXL._AC_UL320_.jpg\n",
      "https://m.media-amazon.com/images/I/71Cx8TZyR8L._AC_UL320_.jpg\n",
      "https://m.media-amazon.com/images/I/51rkDXygocL._AC_UL320_.jpg\n",
      "https://m.media-amazon.com/images/I/71UHoQ2wPzL._AC_UL320_.jpg\n",
      "https://m.media-amazon.com/images/I/61p5zV1aOeL._AC_UL320_.jpg\n",
      "https://m.media-amazon.com/images/I/61DrBPyinTL._AC_UL320_.jpg\n",
      "https://m.media-amazon.com/images/I/718IxqobIoL._AC_UL320_.jpg\n",
      "https://m.media-amazon.com/images/I/710mb67z9fL._AC_UL320_.jpg\n",
      "https://m.media-amazon.com/images/I/61UGRTq4WZL._AC_UL320_.jpg\n",
      "https://m.media-amazon.com/images/I/71N5IxTDbpL._AC_UL320_.jpg\n",
      "https://m.media-amazon.com/images/I/51Hz7915D3L._AC_UL320_.jpg\n",
      "https://m.media-amazon.com/images/I/71D9N47E5RL._AC_UL320_.jpg\n",
      "https://m.media-amazon.com/images/I/81iXqOeZcGL._AC_UL320_.jpg\n",
      "https://m.media-amazon.com/images/I/71J84AngieL._AC_UL320_.jpg\n",
      "https://m.media-amazon.com/images/I/51EF1AGVEvL._AC_UL320_.jpg\n",
      "https://m.media-amazon.com/images/I/81Kh02lSN8L._AC_UL320_.jpg\n",
      "https://m.media-amazon.com/images/I/71lSb0-2FsL._AC_UL320_.jpg\n",
      "https://m.media-amazon.com/images/I/81+43OwukxL._AC_UL320_.jpg\n",
      "https://m.media-amazon.com/images/I/617G5vMNjOL._AC_UL320_.jpg\n",
      "https://m.media-amazon.com/images/I/91IxwzgkBAL._AC_UL320_.jpg\n",
      "https://m.media-amazon.com/images/I/71O3oeRsL7L._AC_UL320_.jpg\n",
      "https://m.media-amazon.com/images/I/71xus7t4u3L._AC_UL320_.jpg\n",
      "https://m.media-amazon.com/images/I/71QVulOi5PL._AC_UL320_.jpg\n"
     ]
    }
   ],
   "source": [
    "urls=[]\n",
    "for image in images:\n",
    "    source=image.get_attribute('src')\n",
    "    urls.append(source)\n",
    "    print(source)"
   ]
  },
  {
   "cell_type": "code",
   "execution_count": 38,
   "metadata": {},
   "outputs": [
    {
     "name": "stdout",
     "output_type": "stream",
     "text": [
      "Downloading 1 of 60 images from page 3\n",
      "Downloading 2 of 60 images from page 3\n",
      "Downloading 3 of 60 images from page 3\n",
      "Downloading 4 of 60 images from page 3\n",
      "Downloading 5 of 60 images from page 3\n",
      "Downloading 6 of 60 images from page 3\n",
      "Downloading 7 of 60 images from page 3\n",
      "Downloading 8 of 60 images from page 3\n",
      "Downloading 9 of 60 images from page 3\n",
      "Downloading 10 of 60 images from page 3\n",
      "Downloading 11 of 60 images from page 3\n",
      "Downloading 12 of 60 images from page 3\n",
      "Downloading 13 of 60 images from page 3\n",
      "Downloading 14 of 60 images from page 3\n",
      "Downloading 15 of 60 images from page 3\n",
      "Downloading 16 of 60 images from page 3\n",
      "Downloading 17 of 60 images from page 3\n",
      "Downloading 18 of 60 images from page 3\n",
      "Downloading 19 of 60 images from page 3\n",
      "Downloading 20 of 60 images from page 3\n",
      "Downloading 21 of 60 images from page 3\n",
      "Downloading 22 of 60 images from page 3\n",
      "Downloading 23 of 60 images from page 3\n",
      "Downloading 24 of 60 images from page 3\n",
      "Downloading 25 of 60 images from page 3\n",
      "Downloading 26 of 60 images from page 3\n",
      "Downloading 27 of 60 images from page 3\n",
      "Downloading 28 of 60 images from page 3\n",
      "Downloading 29 of 60 images from page 3\n",
      "Downloading 30 of 60 images from page 3\n",
      "Downloading 31 of 60 images from page 3\n",
      "Downloading 32 of 60 images from page 3\n",
      "Downloading 33 of 60 images from page 3\n",
      "Downloading 34 of 60 images from page 3\n",
      "Downloading 35 of 60 images from page 3\n",
      "Downloading 36 of 60 images from page 3\n",
      "Downloading 37 of 60 images from page 3\n",
      "Downloading 38 of 60 images from page 3\n",
      "Downloading 39 of 60 images from page 3\n",
      "Downloading 40 of 60 images from page 3\n",
      "Downloading 41 of 60 images from page 3\n",
      "Downloading 42 of 60 images from page 3\n",
      "Downloading 43 of 60 images from page 3\n",
      "Downloading 44 of 60 images from page 3\n",
      "Downloading 45 of 60 images from page 3\n",
      "Downloading 46 of 60 images from page 3\n",
      "Downloading 47 of 60 images from page 3\n",
      "Downloading 48 of 60 images from page 3\n",
      "Downloading 49 of 60 images from page 3\n",
      "Downloading 50 of 60 images from page 3\n",
      "Downloading 51 of 60 images from page 3\n",
      "Downloading 52 of 60 images from page 3\n",
      "Downloading 53 of 60 images from page 3\n",
      "Downloading 54 of 60 images from page 3\n",
      "Downloading 55 of 60 images from page 3\n",
      "Downloading 56 of 60 images from page 3\n",
      "Downloading 57 of 60 images from page 3\n",
      "Downloading 58 of 60 images from page 3\n",
      "Downloading 59 of 60 images from page 3\n",
      "Downloading 60 of 60 images from page 3\n"
     ]
    }
   ],
   "source": [
    "page=3\n",
    "for index, link in enumerate(urls):\n",
    "    print(\"Downloading {0} of {1} images from page 3\".format(index+1, len(urls)))\n",
    "    response=requests.get(link)\n",
    "    with open('Trousers Men/img{0}{1}.jpeg'.format(index,page),\"wb\")as file:\n",
    "        file.write(response.content)"
   ]
  },
  {
   "cell_type": "code",
   "execution_count": null,
   "metadata": {},
   "outputs": [],
   "source": []
  },
  {
   "cell_type": "markdown",
   "metadata": {},
   "source": [
    "NOW WE WILL BE SCRAPPING FOR THE JEANS MEN'S"
   ]
  },
  {
   "cell_type": "code",
   "execution_count": null,
   "metadata": {},
   "outputs": [],
   "source": []
  },
  {
   "cell_type": "code",
   "execution_count": 39,
   "metadata": {},
   "outputs": [],
   "source": [
    "page_j=driver.get('https://www.amazon.in/Jeans-50-Off-or-more-Men/s?rh=n%3A1968076031%2Cp_n_pct-off-with-tax%3A2665401031')"
   ]
  },
  {
   "cell_type": "code",
   "execution_count": 40,
   "metadata": {},
   "outputs": [],
   "source": [
    "images=driver.find_elements_by_xpath(\"//img[@class ='s-image' ]\")"
   ]
  },
  {
   "cell_type": "code",
   "execution_count": 41,
   "metadata": {},
   "outputs": [
    {
     "name": "stdout",
     "output_type": "stream",
     "text": [
      "https://m.media-amazon.com/images/I/81y+01WxbTL._AC_UL320_.jpg\n",
      "https://m.media-amazon.com/images/I/71E1-wCD7jL._AC_UL320_.jpg\n",
      "https://m.media-amazon.com/images/I/81zZgG9JVLL._AC_UL320_.jpg\n",
      "https://m.media-amazon.com/images/I/819AOlaR9IL._AC_UL320_.jpg\n",
      "https://m.media-amazon.com/images/I/616xchp1ECL._AC_UL320_.jpg\n",
      "https://m.media-amazon.com/images/I/61Don-d8JfL._AC_UL320_.jpg\n",
      "https://m.media-amazon.com/images/I/613aUOVUTyL._AC_UL320_.jpg\n",
      "https://m.media-amazon.com/images/I/51UlwkHPtmL._AC_UL320_.jpg\n",
      "https://m.media-amazon.com/images/I/81m75ojT-1L._AC_UL320_.jpg\n",
      "https://m.media-amazon.com/images/I/51PAjY776nL._AC_UL320_.jpg\n",
      "https://m.media-amazon.com/images/I/61rYsv0jpPL._AC_UL320_.jpg\n",
      "https://m.media-amazon.com/images/I/611hFiiUv4L._AC_UL320_.jpg\n",
      "https://m.media-amazon.com/images/I/618r4PBS73L._AC_UL320_.jpg\n",
      "https://m.media-amazon.com/images/I/81ZVm7gJ8PL._AC_UL320_.jpg\n",
      "https://m.media-amazon.com/images/I/61UZtv8GRtL._AC_UL320_.jpg\n",
      "https://m.media-amazon.com/images/I/61TwfPRLhrL._AC_UL320_.jpg\n",
      "https://m.media-amazon.com/images/I/81D+KVOvp2L._AC_UL320_.jpg\n",
      "https://m.media-amazon.com/images/I/818v2hyeiFL._AC_UL320_.jpg\n",
      "https://m.media-amazon.com/images/I/81WI1iN8zJL._AC_UL320_.jpg\n",
      "https://m.media-amazon.com/images/I/51NTO1DvzcL._AC_UL320_.jpg\n",
      "https://m.media-amazon.com/images/I/71XhoCAoznL._AC_UL320_.jpg\n",
      "https://m.media-amazon.com/images/I/81+wlwY-1zL._AC_UL320_.jpg\n",
      "https://m.media-amazon.com/images/I/71PlzRWMYpL._AC_UL320_.jpg\n",
      "https://m.media-amazon.com/images/I/71yrEovAM0L._AC_UL320_.jpg\n",
      "https://m.media-amazon.com/images/I/714EXTMcpuL._AC_UL320_.jpg\n",
      "https://m.media-amazon.com/images/I/61bgI-mrUUL._AC_UL320_.jpg\n",
      "https://m.media-amazon.com/images/I/81yts63FtIL._AC_UL320_.jpg\n",
      "https://m.media-amazon.com/images/I/91mXH+SEo7L._AC_UL320_.jpg\n",
      "https://m.media-amazon.com/images/I/51A7lEYIxkL._AC_UL320_.jpg\n",
      "https://m.media-amazon.com/images/I/61NHBiuS4gL._AC_UL320_.jpg\n",
      "https://m.media-amazon.com/images/I/A13OeaYjSSL._AC_UL320_.jpg\n",
      "https://m.media-amazon.com/images/I/81rdTCV8tIL._AC_UL320_.jpg\n",
      "https://m.media-amazon.com/images/I/81LLqdfObkL._AC_UL320_.jpg\n",
      "https://m.media-amazon.com/images/I/71mWUoQdFqL._AC_UL320_.jpg\n",
      "https://m.media-amazon.com/images/I/61-D7SA4PRL._AC_UL320_.jpg\n",
      "https://m.media-amazon.com/images/I/61S5a0LL0sL._AC_UL320_.jpg\n",
      "https://m.media-amazon.com/images/I/81TYscw9JOL._AC_UL320_.jpg\n",
      "https://m.media-amazon.com/images/I/61+e1RZI11L._AC_UL320_.jpg\n",
      "https://m.media-amazon.com/images/I/61PJp-UGw8L._AC_UL320_.jpg\n",
      "https://m.media-amazon.com/images/I/61ZGXTSfA3L._AC_UL320_.jpg\n",
      "https://m.media-amazon.com/images/I/81XrwcKrN1L._AC_UL320_.jpg\n",
      "https://m.media-amazon.com/images/I/81rcMJm4kFL._AC_UL320_.jpg\n",
      "https://m.media-amazon.com/images/I/813FdolTLFL._AC_UL320_.jpg\n",
      "https://m.media-amazon.com/images/I/81zhY6kFmhL._AC_UL320_.jpg\n",
      "https://m.media-amazon.com/images/I/61xg9CpjNjL._AC_UL320_.jpg\n",
      "https://m.media-amazon.com/images/I/714+qVjlljL._AC_UL320_.jpg\n",
      "https://m.media-amazon.com/images/I/61z9M+39pxL._AC_UL320_.jpg\n",
      "https://m.media-amazon.com/images/I/71duOyZOOWL._AC_UL320_.jpg\n",
      "https://m.media-amazon.com/images/I/81wAqvZ4HWL._AC_UL320_.jpg\n",
      "https://m.media-amazon.com/images/I/61SCAuhMhPL._AC_UL320_.jpg\n",
      "https://m.media-amazon.com/images/I/81ggLuJFQNL._AC_UL320_.jpg\n",
      "https://m.media-amazon.com/images/I/7147RgEPC6L._AC_UL320_.jpg\n",
      "https://m.media-amazon.com/images/I/613BWwlqTkL._AC_UL320_.jpg\n",
      "https://m.media-amazon.com/images/I/81au4FfzaFL._AC_UL320_.jpg\n",
      "https://m.media-amazon.com/images/I/713Hsryga4L._AC_UL320_.jpg\n",
      "https://m.media-amazon.com/images/I/81PPmFokY7L._AC_UL320_.jpg\n",
      "https://m.media-amazon.com/images/I/81DEbKsnJNL._AC_UL320_.jpg\n",
      "https://m.media-amazon.com/images/I/71TEfdmagrL._AC_UL320_.jpg\n",
      "https://m.media-amazon.com/images/I/71w4e08h2sL._AC_UL320_.jpg\n",
      "https://m.media-amazon.com/images/I/81TweziHVTL._AC_UL320_.jpg\n"
     ]
    }
   ],
   "source": [
    "urls=[]\n",
    "for image in images:\n",
    "    source=image.get_attribute('src')\n",
    "    urls.append(source)\n",
    "    print(source)"
   ]
  },
  {
   "cell_type": "code",
   "execution_count": 42,
   "metadata": {},
   "outputs": [
    {
     "name": "stdout",
     "output_type": "stream",
     "text": [
      "Downloading 1 of 60 images from page 1\n",
      "Downloading 2 of 60 images from page 1\n",
      "Downloading 3 of 60 images from page 1\n",
      "Downloading 4 of 60 images from page 1\n",
      "Downloading 5 of 60 images from page 1\n",
      "Downloading 6 of 60 images from page 1\n",
      "Downloading 7 of 60 images from page 1\n",
      "Downloading 8 of 60 images from page 1\n",
      "Downloading 9 of 60 images from page 1\n",
      "Downloading 10 of 60 images from page 1\n",
      "Downloading 11 of 60 images from page 1\n",
      "Downloading 12 of 60 images from page 1\n",
      "Downloading 13 of 60 images from page 1\n",
      "Downloading 14 of 60 images from page 1\n",
      "Downloading 15 of 60 images from page 1\n",
      "Downloading 16 of 60 images from page 1\n",
      "Downloading 17 of 60 images from page 1\n",
      "Downloading 18 of 60 images from page 1\n",
      "Downloading 19 of 60 images from page 1\n",
      "Downloading 20 of 60 images from page 1\n",
      "Downloading 21 of 60 images from page 1\n",
      "Downloading 22 of 60 images from page 1\n",
      "Downloading 23 of 60 images from page 1\n",
      "Downloading 24 of 60 images from page 1\n",
      "Downloading 25 of 60 images from page 1\n",
      "Downloading 26 of 60 images from page 1\n",
      "Downloading 27 of 60 images from page 1\n",
      "Downloading 28 of 60 images from page 1\n",
      "Downloading 29 of 60 images from page 1\n",
      "Downloading 30 of 60 images from page 1\n",
      "Downloading 31 of 60 images from page 1\n",
      "Downloading 32 of 60 images from page 1\n",
      "Downloading 33 of 60 images from page 1\n",
      "Downloading 34 of 60 images from page 1\n",
      "Downloading 35 of 60 images from page 1\n",
      "Downloading 36 of 60 images from page 1\n",
      "Downloading 37 of 60 images from page 1\n",
      "Downloading 38 of 60 images from page 1\n",
      "Downloading 39 of 60 images from page 1\n",
      "Downloading 40 of 60 images from page 1\n",
      "Downloading 41 of 60 images from page 1\n",
      "Downloading 42 of 60 images from page 1\n",
      "Downloading 43 of 60 images from page 1\n",
      "Downloading 44 of 60 images from page 1\n",
      "Downloading 45 of 60 images from page 1\n",
      "Downloading 46 of 60 images from page 1\n",
      "Downloading 47 of 60 images from page 1\n",
      "Downloading 48 of 60 images from page 1\n",
      "Downloading 49 of 60 images from page 1\n",
      "Downloading 50 of 60 images from page 1\n",
      "Downloading 51 of 60 images from page 1\n",
      "Downloading 52 of 60 images from page 1\n",
      "Downloading 53 of 60 images from page 1\n",
      "Downloading 54 of 60 images from page 1\n",
      "Downloading 55 of 60 images from page 1\n",
      "Downloading 56 of 60 images from page 1\n",
      "Downloading 57 of 60 images from page 1\n",
      "Downloading 58 of 60 images from page 1\n",
      "Downloading 59 of 60 images from page 1\n",
      "Downloading 60 of 60 images from page 1\n"
     ]
    }
   ],
   "source": [
    "page=1\n",
    "for index, link in enumerate(urls):\n",
    "    print(\"Downloading {0} of {1} images from page 1\".format(index+1, len(urls)))\n",
    "    response=requests.get(link)\n",
    "    with open('Jeans Men/img{0}{1}.jpeg'.format(index,page),\"wb\")as file:\n",
    "        file.write(response.content)"
   ]
  },
  {
   "cell_type": "code",
   "execution_count": 43,
   "metadata": {},
   "outputs": [],
   "source": [
    "next_page=driver.find_element_by_xpath(\"//li[@class = 'a-last']//a\").click() "
   ]
  },
  {
   "cell_type": "code",
   "execution_count": 44,
   "metadata": {},
   "outputs": [],
   "source": [
    "images=driver.find_elements_by_xpath(\"//img[@class ='s-image' ]\")"
   ]
  },
  {
   "cell_type": "code",
   "execution_count": 45,
   "metadata": {},
   "outputs": [
    {
     "name": "stdout",
     "output_type": "stream",
     "text": [
      "https://m.media-amazon.com/images/I/81y+01WxbTL._AC_UL320_.jpg\n",
      "https://m.media-amazon.com/images/I/71E1-wCD7jL._AC_UL320_.jpg\n",
      "https://m.media-amazon.com/images/I/81zZgG9JVLL._AC_UL320_.jpg\n",
      "https://m.media-amazon.com/images/I/819AOlaR9IL._AC_UL320_.jpg\n",
      "https://m.media-amazon.com/images/I/61YB0H8a3gL._AC_UL320_.jpg\n",
      "https://m.media-amazon.com/images/I/61Gvg7wkexL._AC_UL320_.jpg\n",
      "https://m.media-amazon.com/images/I/91rFfkC-JcL._AC_UL320_.jpg\n",
      "https://m.media-amazon.com/images/I/71vN1l2shkL._AC_UL320_.jpg\n",
      "https://m.media-amazon.com/images/I/61+ymeZjHJL._AC_UL320_.jpg\n",
      "https://m.media-amazon.com/images/I/617SAeg8hPL._AC_UL320_.jpg\n",
      "https://m.media-amazon.com/images/I/71O9et28uaL._AC_UL320_.jpg\n",
      "https://m.media-amazon.com/images/I/61YB0H8a3gL._AC_UL320_.jpg\n",
      "https://m.media-amazon.com/images/I/71m0W58-zQL._AC_UL320_.jpg\n",
      "https://m.media-amazon.com/images/I/81jdRmk4pgL._AC_UL320_.jpg\n",
      "https://m.media-amazon.com/images/I/71NRVDhXnoL._AC_UL320_.jpg\n",
      "https://m.media-amazon.com/images/I/61Udsu9LfVL._AC_UL320_.jpg\n",
      "https://m.media-amazon.com/images/I/61ctY7YIUhL._AC_UL320_.jpg\n",
      "https://m.media-amazon.com/images/I/817+lobyUxL._AC_UL320_.jpg\n",
      "https://m.media-amazon.com/images/I/81LyX23kpoL._AC_UL320_.jpg\n",
      "https://m.media-amazon.com/images/I/817qmgbVlvL._AC_UL320_.jpg\n",
      "https://m.media-amazon.com/images/I/61BZzaK5abL._AC_UL320_.jpg\n",
      "https://m.media-amazon.com/images/I/81K7gmUKQlL._AC_UL320_.jpg\n",
      "https://m.media-amazon.com/images/I/51JjYBDfqJL._AC_UL320_.jpg\n",
      "https://m.media-amazon.com/images/I/712pHoSq6WL._AC_UL320_.jpg\n",
      "https://m.media-amazon.com/images/I/81tK9MJ07rL._AC_UL320_.jpg\n",
      "https://m.media-amazon.com/images/I/41ipyFTyb-L._AC_UL320_.jpg\n",
      "https://m.media-amazon.com/images/I/81Z9fx6M3cL._AC_UL320_.jpg\n",
      "https://m.media-amazon.com/images/I/81IxhGYjdGL._AC_UL320_.jpg\n",
      "https://m.media-amazon.com/images/I/61NHBiuS4gL._AC_UL320_.jpg\n",
      "https://m.media-amazon.com/images/I/51A7lEYIxkL._AC_UL320_.jpg\n",
      "https://m.media-amazon.com/images/I/A13OeaYjSSL._AC_UL320_.jpg\n",
      "https://m.media-amazon.com/images/I/81rdTCV8tIL._AC_UL320_.jpg\n",
      "https://m.media-amazon.com/images/I/41s4My+nEDL._AC_UL320_.jpg\n",
      "https://m.media-amazon.com/images/I/61DzS5aOy4L._AC_UL320_.jpg\n",
      "https://m.media-amazon.com/images/I/912o9vQKe6L._AC_UL320_.jpg\n",
      "https://m.media-amazon.com/images/I/71j2MP7jlWL._AC_UL320_.jpg\n",
      "https://m.media-amazon.com/images/I/61nJ6tJX0VL._AC_UL320_.jpg\n",
      "https://m.media-amazon.com/images/I/81ZfDha1c5L._AC_UL320_.jpg\n",
      "https://m.media-amazon.com/images/I/917qCzSu7TL._AC_UL320_.jpg\n",
      "https://m.media-amazon.com/images/I/81gGg9cQ+0L._AC_UL320_.jpg\n",
      "https://m.media-amazon.com/images/I/611Uj4IofCL._AC_UL320_.jpg\n",
      "https://m.media-amazon.com/images/I/81EGkLRifbL._AC_UL320_.jpg\n",
      "https://m.media-amazon.com/images/I/61HBtXKvYOL._AC_UL320_.jpg\n",
      "https://m.media-amazon.com/images/I/81Sv8b3mgvL._AC_UL320_.jpg\n",
      "https://m.media-amazon.com/images/I/81U2YOxCtLL._AC_UL320_.jpg\n",
      "https://m.media-amazon.com/images/I/81eX01v34CL._AC_UL320_.jpg\n",
      "https://m.media-amazon.com/images/I/81nuOCZkXjL._AC_UL320_.jpg\n",
      "https://m.media-amazon.com/images/I/71pHBgvYSPL._AC_UL320_.jpg\n",
      "https://m.media-amazon.com/images/I/71HEmGIsJkL._AC_UL320_.jpg\n",
      "https://m.media-amazon.com/images/I/81G4si+3gaL._AC_UL320_.jpg\n",
      "https://m.media-amazon.com/images/I/A1q57Zmq0sL._AC_UL320_.jpg\n",
      "https://m.media-amazon.com/images/I/81V9Pk4rGOL._AC_UL320_.jpg\n",
      "https://m.media-amazon.com/images/I/71F9gI5l2yL._AC_UL320_.jpg\n",
      "https://m.media-amazon.com/images/I/81GFdbhu9qL._AC_UL320_.jpg\n",
      "https://m.media-amazon.com/images/I/81HXc8DEFNL._AC_UL320_.jpg\n",
      "https://m.media-amazon.com/images/I/81cYIZ8rPlL._AC_UL320_.jpg\n",
      "https://m.media-amazon.com/images/I/81DEbKsnJNL._AC_UL320_.jpg\n",
      "https://m.media-amazon.com/images/I/71w4e08h2sL._AC_UL320_.jpg\n",
      "https://m.media-amazon.com/images/I/61eLjL5VQkL._AC_UL320_.jpg\n",
      "https://m.media-amazon.com/images/I/71TEfdmagrL._AC_UL320_.jpg\n"
     ]
    }
   ],
   "source": [
    "urls=[]\n",
    "for image in images:\n",
    "    source=image.get_attribute('src')\n",
    "    urls.append(source)\n",
    "    print(source)"
   ]
  },
  {
   "cell_type": "code",
   "execution_count": 46,
   "metadata": {},
   "outputs": [
    {
     "name": "stdout",
     "output_type": "stream",
     "text": [
      "Downloading 1 of 60 images from page 2\n",
      "Downloading 2 of 60 images from page 2\n",
      "Downloading 3 of 60 images from page 2\n",
      "Downloading 4 of 60 images from page 2\n",
      "Downloading 5 of 60 images from page 2\n",
      "Downloading 6 of 60 images from page 2\n",
      "Downloading 7 of 60 images from page 2\n",
      "Downloading 8 of 60 images from page 2\n",
      "Downloading 9 of 60 images from page 2\n",
      "Downloading 10 of 60 images from page 2\n",
      "Downloading 11 of 60 images from page 2\n",
      "Downloading 12 of 60 images from page 2\n",
      "Downloading 13 of 60 images from page 2\n",
      "Downloading 14 of 60 images from page 2\n",
      "Downloading 15 of 60 images from page 2\n",
      "Downloading 16 of 60 images from page 2\n",
      "Downloading 17 of 60 images from page 2\n",
      "Downloading 18 of 60 images from page 2\n",
      "Downloading 19 of 60 images from page 2\n",
      "Downloading 20 of 60 images from page 2\n",
      "Downloading 21 of 60 images from page 2\n",
      "Downloading 22 of 60 images from page 2\n",
      "Downloading 23 of 60 images from page 2\n",
      "Downloading 24 of 60 images from page 2\n",
      "Downloading 25 of 60 images from page 2\n",
      "Downloading 26 of 60 images from page 2\n",
      "Downloading 27 of 60 images from page 2\n",
      "Downloading 28 of 60 images from page 2\n",
      "Downloading 29 of 60 images from page 2\n",
      "Downloading 30 of 60 images from page 2\n",
      "Downloading 31 of 60 images from page 2\n",
      "Downloading 32 of 60 images from page 2\n",
      "Downloading 33 of 60 images from page 2\n",
      "Downloading 34 of 60 images from page 2\n",
      "Downloading 35 of 60 images from page 2\n",
      "Downloading 36 of 60 images from page 2\n",
      "Downloading 37 of 60 images from page 2\n",
      "Downloading 38 of 60 images from page 2\n",
      "Downloading 39 of 60 images from page 2\n",
      "Downloading 40 of 60 images from page 2\n",
      "Downloading 41 of 60 images from page 2\n",
      "Downloading 42 of 60 images from page 2\n",
      "Downloading 43 of 60 images from page 2\n",
      "Downloading 44 of 60 images from page 2\n",
      "Downloading 45 of 60 images from page 2\n",
      "Downloading 46 of 60 images from page 2\n",
      "Downloading 47 of 60 images from page 2\n",
      "Downloading 48 of 60 images from page 2\n",
      "Downloading 49 of 60 images from page 2\n",
      "Downloading 50 of 60 images from page 2\n",
      "Downloading 51 of 60 images from page 2\n",
      "Downloading 52 of 60 images from page 2\n",
      "Downloading 53 of 60 images from page 2\n",
      "Downloading 54 of 60 images from page 2\n",
      "Downloading 55 of 60 images from page 2\n",
      "Downloading 56 of 60 images from page 2\n",
      "Downloading 57 of 60 images from page 2\n",
      "Downloading 58 of 60 images from page 2\n",
      "Downloading 59 of 60 images from page 2\n",
      "Downloading 60 of 60 images from page 2\n"
     ]
    }
   ],
   "source": [
    "page=2\n",
    "for index, link in enumerate(urls):\n",
    "    print(\"Downloading {0} of {1} images from page 2\".format(index+1, len(urls)))\n",
    "    response=requests.get(link)\n",
    "    with open('Jeans Men/img{0}{1}.jpeg'.format(index,page),\"wb\")as file:\n",
    "        file.write(response.content)"
   ]
  },
  {
   "cell_type": "code",
   "execution_count": null,
   "metadata": {},
   "outputs": [],
   "source": []
  },
  {
   "cell_type": "code",
   "execution_count": null,
   "metadata": {},
   "outputs": [],
   "source": []
  },
  {
   "cell_type": "code",
   "execution_count": null,
   "metadata": {},
   "outputs": [],
   "source": []
  },
  {
   "cell_type": "code",
   "execution_count": null,
   "metadata": {},
   "outputs": [],
   "source": []
  },
  {
   "cell_type": "code",
   "execution_count": null,
   "metadata": {},
   "outputs": [],
   "source": []
  },
  {
   "cell_type": "code",
   "execution_count": null,
   "metadata": {},
   "outputs": [],
   "source": []
  },
  {
   "cell_type": "code",
   "execution_count": null,
   "metadata": {},
   "outputs": [],
   "source": []
  },
  {
   "cell_type": "code",
   "execution_count": null,
   "metadata": {},
   "outputs": [],
   "source": []
  },
  {
   "cell_type": "code",
   "execution_count": null,
   "metadata": {},
   "outputs": [],
   "source": []
  },
  {
   "cell_type": "code",
   "execution_count": null,
   "metadata": {},
   "outputs": [],
   "source": []
  },
  {
   "cell_type": "code",
   "execution_count": null,
   "metadata": {},
   "outputs": [],
   "source": []
  },
  {
   "cell_type": "code",
   "execution_count": null,
   "metadata": {},
   "outputs": [],
   "source": []
  },
  {
   "cell_type": "code",
   "execution_count": null,
   "metadata": {},
   "outputs": [],
   "source": []
  }
 ],
 "metadata": {
  "kernelspec": {
   "display_name": "Python 3",
   "language": "python",
   "name": "python3"
  },
  "language_info": {
   "codemirror_mode": {
    "name": "ipython",
    "version": 3
   },
   "file_extension": ".py",
   "mimetype": "text/x-python",
   "name": "python",
   "nbconvert_exporter": "python",
   "pygments_lexer": "ipython3",
   "version": "3.8.3"
  }
 },
 "nbformat": 4,
 "nbformat_minor": 4
}
